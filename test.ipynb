{
 "cells": [
  {
   "cell_type": "markdown",
   "metadata": {},
   "source": [
    "まずはライブラリをインポートする"
   ]
  },
  {
   "cell_type": "code",
   "execution_count": 8,
   "metadata": {},
   "outputs": [],
   "source": [
    "import pandas as pd\n",
    "from IPython.display import display\n",
    "import numpy as np\n",
    "import matplotlib.pyplot as plt\n",
    "import statsmodels.api as sm\n",
    "%matplotlib inline"
   ]
  },
  {
   "cell_type": "markdown",
   "metadata": {},
   "source": [
    "次にデータを生成し，適当に欠損させる．説明変数は`x1`と`x2`であり，目的変数は`y`とする．それぞれは\n",
    "$$\n",
    "x_1 \\sim \\mathcal{N}(2.0, 0.4) \\\\\n",
    "x_2 \\mid x_1 \\sim \\mathcal{N}(-2.0 x_1 + 0.5, 0.8) \\\\\n",
    "y \\mid x_1,x_2 \\sim \\mathcal{N}(3.0 x_1 + 1.5x_2, 0.8)\n",
    "$$\n",
    "という関係にあるものとする．"
   ]
  },
  {
   "cell_type": "code",
   "execution_count": 21,
   "metadata": {},
   "outputs": [
    {
     "data": {
      "text/plain": [
       "<matplotlib.legend.Legend at 0x234db166730>"
      ]
     },
     "execution_count": 21,
     "metadata": {},
     "output_type": "execute_result"
    },
    {
     "data": {
      "image/png": "[encoded data removed]",
      "text/plain": [
       "<Figure size 432x288 with 1 Axes>"
      ]
     },
     "metadata": {
      "needs_background": "light"
     },
     "output_type": "display_data"
    }
   ],
   "source": [
    "N_train, N_test = 60, 1000\n",
    "X = np.zeros((N_train + N_test, 2))\n",
    "y = np.zeros(N_train + N_test)\n",
    "X[:,0] = np.random.normal(2.0, 0.4, size = N_train + N_test)\n",
    "X[:,1] = np.random.normal(-2.0*X[:,0] + 0.5, 0.8, size = N_train + N_test)\n",
    "y = np.random.normal(3.0*X[:,0] + 1.5*X[:,1], 0.8, size = N_train + N_test)\n",
    "X_train_complete = X[:N_train]\n",
    "y_train = y[:N_train]\n",
    "X_test = X[N_train:]\n",
    "y_test = y[N_train:]\n",
    "\n",
    "plt.hist(X[:,0], bins = 20, label = \"x1\")\n",
    "plt.hist(X[:,1], bins = 20, label = \"x2\")\n",
    "plt.hist(y, bins = 20, label = \"y\")\n",
    "plt.title(\"distributions\")\n",
    "plt.legend()"
   ]
  },
  {
   "cell_type": "markdown",
   "metadata": {},
   "source": [
    "$p = 0.3$の確率で説明変数を欠損させる．欠損した位置や値は`table_missing`で保存する．"
   ]
  },
  {
   "cell_type": "code",
   "execution_count": 22,
   "metadata": {},
   "outputs": [
    {
     "name": "stdout",
     "output_type": "stream",
     "text": [
      "[[ 1.58535427         nan]\n",
      " [ 2.10601671 -4.55318535]\n",
      " [ 1.80926526 -3.5396434 ]\n",
      " [ 2.38851039 -4.33333887]\n",
      " [ 1.42494009         nan]\n",
      " [ 1.4851974  -2.11832497]\n",
      " [ 2.36502598 -3.75242383]\n",
      " [        nan -2.56203429]\n",
      " [ 1.40867681 -2.91245052]\n",
      " [ 2.34858366         nan]]\n"
     ]
    }
   ],
   "source": [
    "p = 0.3\n",
    "X_train = X_train_complete.copy()\n",
    "is_nan_X_train = np.zeros(X_train.shape, dtype = \"int\")\n",
    "for idx in range(len(X_train)):\n",
    "    if np.random.rand() < p:\n",
    "        is_nan_X_train[idx, 0] = 1\n",
    "        X_train[idx, 0] = np.nan\n",
    "    \n",
    "    if np.random.rand() < p:\n",
    "        is_nan_X_train[idx, 1] = 1\n",
    "        X_train[idx, 1] = np.nan\n",
    "print(X_train[0:10])"
   ]
  },
  {
   "cell_type": "code",
   "execution_count": 23,
   "metadata": {},
   "outputs": [
    {
     "name": "stdout",
     "output_type": "stream",
     "text": [
      "=====最尤推定(complete data)=====\n",
      "y_error = 0.6841894767175021\n",
      "=====最尤推定(dropped)=====\n",
      "y_error = 0.7259293059445424\n",
      "=====最尤推定(interpolated)=====\n",
      "y_error = 0.9199739418129449\n"
     ]
    }
   ],
   "source": [
    "print(\"=====最尤推定(complete data)=====\")\n",
    "w_ML = np.linalg.inv(X_train_complete.T.dot(X_train_complete)).dot(X_train_complete.T).dot(y_train)\n",
    "y_pred = X_test.dot(w_ML)\n",
    "print(\"y_error = {:}\".format( ((y_pred - y_test)**2.0).mean() ))\n",
    "\n",
    "print(\"=====最尤推定(dropped)=====\")\n",
    "X_train_dropped = X_train[is_nan_X_train.sum(1) == 0]\n",
    "y_train_dropped = y_train[is_nan_X_train.sum(1) == 0]\n",
    "w_ML = np.linalg.inv(X_train_dropped.T.dot(X_train_dropped)).dot(X_train_dropped.T).dot(y_train_dropped)\n",
    "y_pred = X_test.dot(w_ML)\n",
    "print(\"y_error = {:}\".format( ((y_pred - y_test)**2.0).mean() ))\n",
    "\n",
    "print(\"=====最尤推定(interpolated)=====\")\n",
    "X_train_interpolated = X_train.copy()\n",
    "X_train_interpolated[np.isnan(X_train)] = np.tile(np.nanmean(X_train, axis = 0), reps = (len(X_train,),1))[np.isnan(X_train)]\n",
    "w_ML = np.linalg.inv(X_train_interpolated.T.dot(X_train_interpolated)).dot(X_train_interpolated.T).dot(y_train)\n",
    "y_pred = X_test.dot(w_ML)\n",
    "print(\"y_error = {:}\".format( ((y_pred - y_test)**2.0).mean() ))"
   ]
  },
  {
   "cell_type": "markdown",
   "metadata": {},
   "source": [
    "説明変数の補間が可能な，ベイズ線形回帰のクラスを構成する．"
   ]
  },
  {
   "cell_type": "code",
   "execution_count": 24,
   "metadata": {},
   "outputs": [],
   "source": [
    "class Bayesian_LR_with_interpolation: # 説明変数の補間が可能な，ベイズ線形回帰\n",
    "    def __init__(self, alpha = 1.0, beta = 1.0):\n",
    "        self.alpha = alpha # alphaはパラメータwの事前分布のパラメータで，alphaが大きいほどwの分布は狭くなる．\n",
    "        self.beta = beta # betaは誤差のオーダーの逆数\n",
    "    \n",
    "    def fit(self, X_train_original, y_train_original, num_sample = 1000, fit_hyper_parameters = True, num_iteration = 100, eta = 0.1):\n",
    "        dalpha = 0.01\n",
    "        dbeta = 0.01\n",
    "        self.hyper_param_record = np.zeros((num_iteration, 2)) # ハイパーパラメータの軌跡を保存\n",
    "        self.normalize_train(X_train_original, y_train_original) # 標準化されたself.X_train, self.y_trainが生成される\n",
    "        if len(self.nan_list) == 0:\n",
    "            print(\"Note: There are no missing values in the explanatory variables.\")\n",
    "        \n",
    "        w_sample_mean = np.zeros(len(self.X_train[0])) # サンプリングから計算したwの期待値を格納\n",
    "        w_sample_std = np.zeros(len(self.X_train[0])) # サンプリングから計算したwの標準偏差を格納\n",
    "        X_sample_mean = self.X_train.copy() # サンプリングから計算したXの期待値を格納，欠損値だけ更新\n",
    "        X_sample_std = np.zeros(self.X_train.shape) # サンプリングから計算したXの標準偏差を格納，欠損値だけ更新\n",
    "        X_sample = self.X_train.copy() # 現時点でのサンプルの値，欠損値だけ更新する\n",
    "        self.w_samples = np.zeros((num_sample, len(self.X_train[0]))) # wに関するサンプリング結果をすべて集める，予測の際に必要\n",
    "        \n",
    "        # ハイパーパラメータを調整，勾配法により尤度を上げるようなハイパーパラメータを探す\n",
    "        if fit_hyper_parameters: # ハイパーパラメータを調整する場合\n",
    "            likelihood = self.likelihood(num_sample) # 初期化\n",
    "            for idx_iteration in range(num_iteration):\n",
    "                self.hyper_param_record[idx_iteration] = np.array([self.alpha, self.beta])\n",
    "                self.alpha = self.alpha + dalpha\n",
    "                likelihood_new = self.likelihood(num_sample)\n",
    "                self.alpha = self.alpha - dalpha + eta*(likelihood_new - likelihood) / dalpha\n",
    "                likelihood = likelihood_new\n",
    "                self.beta = self.beta + dbeta\n",
    "                likelihood_new = self.likelihood(num_sample) # 新しい尤度を計算\n",
    "                self.beta = self.beta - dbeta + eta*(likelihood_new - likelihood) / dbeta\n",
    "                likelihood = likelihood_new\n",
    "                print(\"iteraton = {0:} / {1:}: alpha = {2:.6f}, beta = {3:.6f}, L = {4:.6f}\".format(idx_iteration, num_iteration, self.alpha, self.beta, likelihood), end = \"\\r\")\n",
    "        \n",
    "        # サンプリングによりwとXの統計量を計算\n",
    "        for t in range(num_sample):\n",
    "            # wのサンプリング\n",
    "            w_sample = self.sample_w(X_sample)\n",
    "            self.w_samples[t] = w_sample # predictionで使うため\n",
    "            w_sample_mean = self.update_mean(w_sample_mean, w_sample, t)\n",
    "            w_sample_std = self.update_std(w_sample_std, w_sample, t)\n",
    "            \n",
    "            # Xのサンプリング(欠損している箇所のみ)\n",
    "            for idx, (n, m) in enumerate(self.nan_list):\n",
    "                X_sample[n, m] = self.sample_x_nm(n, m, w_sample, X_sample[n], self.y_train[n])\n",
    "                X_sample_mean[n, m] = self.update_mean(X_sample_mean[n, m], X_sample[n, m], t)\n",
    "                X_sample_std[n, m] = self.update_std(X_sample_std[n, m], X_sample[n, m], t)\n",
    "                \n",
    "        # 標準化を解除\n",
    "        X_sample_mean = np.tile(self.x_train_original_mean, reps = (len(X_train_original), 1)) \\\n",
    "                            + X_sample_mean * np.tile(self.x_train_original_std, reps = (len(X_train_original), 1))\n",
    "        X_sample_std = np.tile(self.x_train_original_std, reps = (len(X_train_original), 1)) * X_sample_std\n",
    "        print(\"Fitting has finished: \")\n",
    "        print(\"alpha = {:.6f}\".format(self.alpha))\n",
    "        print(\"beta = {:.6f}\".format(self.beta))\n",
    "        return w_sample_mean, w_sample_std, X_sample_mean, X_sample_std\n",
    "    \n",
    "    def normalize_train(self, X_train_original, y_train_original): # 入力を標準化しつつ，標準化を解除できるように値を保存\n",
    "        # Xについての処理\n",
    "        self.x_train_original_mean = np.nanmean(X_train_original, axis = 0)\n",
    "        self.x_train_original_std = np.nanstd(X_train_original, axis = 0)\n",
    "        self.X_train = (X_train_original - np.tile(self.x_train_original_mean, reps = (len(X_train_original),1)) ) \\\n",
    "                            / np.tile(self.x_train_original_std, reps = (len(X_train_original), 1)) # 標準化\n",
    "        self.Lambda = np.linalg.inv( np.cov(self.X_train[np.isnan(X_train_original).sum(1) == 0].T) )# 説明変数がどれも欠損していないデータ行から計算した共分散行列の逆行列\n",
    "        self.nan_list = list(zip(*np.where(np.isnan(X_train_original)))) # もとの入力データでnullの場所を格納\n",
    "        self.X_train[np.isnan(X_train_original)] = 0.0 # 標準化しているため0で埋めてok\n",
    "        \n",
    "        # yについての処理\n",
    "        self.y_train_original_mean = y_train_original.mean()\n",
    "        self.y_train_original_std = y_train_original.std()\n",
    "        self.y_train = (y_train_original - self.y_train_original_mean) / self.y_train_original_std\n",
    "    \n",
    "    def likelihood(self, num_sample):\n",
    "        L = 0.0\n",
    "        X_sample = self.X_train.copy()\n",
    "        for t in range(num_sample):\n",
    "            w_sample = self.sample_w(X_sample)\n",
    "            for idx, (n, m) in enumerate(self.nan_list):\n",
    "                X_sample[n, m] = self.sample_x_nm(n, m, w_sample, X_sample[n], self.y_train[n])\n",
    "            L += np.exp( -0.5 * self.beta * ((self.y_train - X_sample.dot(w_sample))**2.0).sum() )\n",
    "        # 訓練データ数が増えるにつれてlog_likelihoodは線形に増える(はず)なので規格化．これをしないとデータ数を変えるたびにetaを変更する必要がありそう\n",
    "        L = np.log(L) / len(self.y_train) + 0.5*np.log(self.beta) \n",
    "        return L\n",
    "    \n",
    "    def update_mean(self, x_mean, x, t):\n",
    "        return (1.0 / (t+1.0)) * (t*x_mean + x)\n",
    "    \n",
    "    def update_std(self, x_std, x, t):\n",
    "        return np.sqrt( (t/(t+1.0)) * (x_std**2.0 + (x_std-x)**2.0 / (t+1.0) ) )\n",
    "    \n",
    "    def sample_w(self, X): # 他を条件づけたときのwをサンプル\n",
    "        y, alpha, beta = self.y_train, self.alpha, self.beta\n",
    "        w_mu = np.linalg.inv(X.T.dot(X) + (alpha/beta)*np.eye(len(X[0]))).dot(X.T).dot(y) # 他の変数を条件づけたときの分布の期待値n\n",
    "        w_sigma = np.linalg.inv(beta * X.T.dot(X) + alpha*np.eye(len(X[0]))) # 標準偏差\n",
    "        return np.random.multivariate_normal(w_mu, w_sigma)\n",
    "    \n",
    "    def sample_x_nm(self, n, m, w, x_n, y_n): # 他を条件づけたときのx_nm(欠損値)をサンプル\n",
    "        alpha, beta = self.alpha, self.beta\n",
    "        x_nm_mu = x_n[m] + (beta*y_n*w[m] - (beta*w*w[m]+self.Lambda[m]).dot(x_n)) / (beta*w[m]*w[m] + self.Lambda[m,m])\n",
    "        x_nm_sigma = 1.0 / np.sqrt(beta*w[m]*w[m] + self.Lambda[m,m])\n",
    "        return np.random.normal(x_nm_mu, x_nm_sigma)\n",
    "    \n",
    "    def sample_y(self, X, w): # 他を条件づけたときの出力yをサンプル\n",
    "        y_mu = X.dot(w)\n",
    "        y_sigma = (1.0/self.beta) * np.eye(len(y_mu))\n",
    "        return np.random.multivariate_normal(y_mu, y_sigma)\n",
    "    \n",
    "    def predict(self, X_test_original, num_sample = 1000): # 欠損がある可能性のある入力から予測\n",
    "        X_test = (X_test_original - np.tile(self.x_train_original_mean, reps = (len(X_test_original),1)) ) \\\n",
    "                            / np.tile(self.x_train_original_std, reps = (len(X_test_original), 1)) # 標準化\n",
    "        nan_list = list(zip(*np.where(np.isnan(X_test_original)))) # もとの入力データでnullの場所を格納\n",
    "        X_test[np.isnan(X_test_original)] = 0.0 # 標準化しているため0で埋めてok\n",
    "        \n",
    "        X_test_sample_mean = X_test.copy() # サンプリングから計算したXの期待値を格納，欠損値だけ更新\n",
    "        X_test_sample_std = np.zeros(X_test.shape) # サンプリングから計算したXの標準偏差を格納，欠損値だけ更新\n",
    "        X_test_sample = X_test.copy() # 現時点でのサンプルの値，欠損値だけ更新する\n",
    "        \n",
    "        y_test_sample_mean = np.zeros(len(X_test_original))\n",
    "        y_test_sample_std = np.zeros(len(X_test_original))\n",
    "        \n",
    "        # サンプリングによりyとXの統計量を計算\n",
    "        for t in range(num_sample):\n",
    "            print(\"prediction: t = {0:} / {1:}\".format(t, num_sample), end = \"\\r\")\n",
    "            # wのサンプル(前の結果を流用)\n",
    "            w_sample = self.w_samples[t]\n",
    "            # yのサンプル\n",
    "            y_test_sample = self.sample_y(X_test_sample, w_sample)\n",
    "            y_test_sample_mean = self.update_mean(y_test_sample_mean, y_test_sample, t)\n",
    "            y_test_sample_std = self.update_std(y_test_sample_std, y_test_sample, t)\n",
    "            # Xのサンプル           \n",
    "            for idx, (n, m) in enumerate(nan_list):\n",
    "                X_test_sample[n, m] = self.sample_x_nm(n, m, w_sample, X_test_sample[n], y_test_sample[n])\n",
    "                X_test_sample_mean[n, m] = self.update_mean(X_test_sample_mean[n, m], X_test_sample[n, m], t)\n",
    "                X_test_sample_std[n, m] = self.update_std(X_test_sample_std[n, m], X_test_sample[n, m], t)\n",
    "        # 標準化を解除\n",
    "        y_test_sample_mean = self.y_train_original_mean + self.y_train_original_std * y_test_sample_mean\n",
    "        y_test_sample_std = self.y_train_original_std * y_test_sample_std\n",
    "        X_test_sample_mean = np.tile(self.x_train_original_mean, reps = (len(X_test), 1)) \\\n",
    "                            + X_test_sample_mean * np.tile(self.x_train_original_std, reps = (len(X_test), 1))\n",
    "        X_test_sample_std = np.tile(self.x_train_original_std, reps = (len(X_test), 1)) * X_test_sample_std\n",
    "        print(\"Predictions has finished.\")\n",
    "        return y_test_sample_mean, y_test_sample_std, X_test_sample_mean, X_test_sample_std\n",
    "    "
   ]
  },
  {
   "cell_type": "markdown",
   "metadata": {},
   "source": [
    "欠損のあるデータから予測"
   ]
  },
  {
   "cell_type": "code",
   "execution_count": 25,
   "metadata": {},
   "outputs": [
    {
     "name": "stdout",
     "output_type": "stream",
     "text": [
      "\n",
      "=====ベイズ線形回帰=====\n",
      "Fitting has finished: lpha = 2.567708, beta = 4.346280, L = 0.3845116\n",
      "alpha = 2.567708\n",
      "beta = 4.346280\n",
      "X_error = 0.024276115858132833, 0.2436076829842362\n",
      "Predictions has finished.0\n",
      "y_error = 0.7147843731641442\n"
     ]
    }
   ],
   "source": [
    "print(\"\\n=====ベイズ線形回帰=====\")\n",
    "model = Bayesian_LR_with_interpolation(alpha = 1.0, beta = 1.0)\n",
    "X_pred = model.fit(X_train, y_train, fit_hyper_parameters = True)[2]\n",
    "x1_error, x2_error = ( (X_pred - X_train_complete)**2.0 ).mean(0)\n",
    "print(\"X_error = {0:}, {1:}\".format(x1_error, x2_error))\n",
    "y_pred = model.predict(X_test)[0]\n",
    "print(\"y_error = {:}\".format( ((y_pred - y_test)**2.0).mean() ))"
   ]
  },
  {
   "cell_type": "markdown",
   "metadata": {},
   "source": [
    "欠損のないデータから予測"
   ]
  },
  {
   "cell_type": "code",
   "execution_count": 26,
   "metadata": {},
   "outputs": [
    {
     "name": "stdout",
     "output_type": "stream",
     "text": [
      "=====最尤推定=====\n",
      "y_error = 0.6841894767175021\n",
      "\n",
      "=====ベイズ線形回帰=====\n",
      "Note: There are no missing values in the explanatory variables.\n",
      "Fitting has finished: lpha = 1.482402, beta = 2.115292, L = 0.0693715\n",
      "alpha = 1.482402\n",
      "beta = 2.115292\n",
      "X_error = 0.0, 4.108650548026103e-33\n",
      "Predictions has finished.0\n",
      "y_error = 0.6814939439707199\n"
     ]
    }
   ],
   "source": [
    "print(\"=====最尤推定=====\")\n",
    "w_ML = np.linalg.inv(X_train_complete.T.dot(X_train_complete)).dot(X_train_complete.T).dot(y_train)\n",
    "y_pred = X_test.dot(w_ML)\n",
    "print(\"y_error = {:}\".format( ((y_pred - y_test)**2.0).mean() ))\n",
    "\n",
    "print(\"\\n=====ベイズ線形回帰=====\")\n",
    "model = Bayesian_LR_with_interpolation(alpha = 1.0, beta = 1.0)\n",
    "X_pred = model.fit(X_train_complete, y_train, fit_hyper_parameters = True)[2]\n",
    "x1_error, x2_error = ( (X_pred - X_train_complete)**2.0 ).mean(0)\n",
    "print(\"X_error = {0:}, {1:}\".format(x1_error, x2_error))\n",
    "y_pred = model.predict(X_test)[0]\n",
    "print(\"y_error = {:}\".format( ((y_pred - y_test)**2.0).mean() ))"
   ]
  },
  {
   "cell_type": "markdown",
   "metadata": {},
   "source": [
    "欠損データをすべて落として予測"
   ]
  },
  {
   "cell_type": "code",
   "execution_count": 27,
   "metadata": {},
   "outputs": [
    {
     "name": "stdout",
     "output_type": "stream",
     "text": [
      "=====最尤推定=====\n",
      "y_error = 0.7259293059445424\n",
      "\n",
      "=====ベイズ線形回帰=====\n",
      "Note: There are no missing values in the explanatory variables.\n",
      "Fitting has finished: lpha = 1.721914, beta = 3.476663, L = 0.428672\n",
      "alpha = 1.721914\n",
      "beta = 3.476663\n",
      "Predictions has finished.0\n",
      "y_error = 0.7766452769398361\n"
     ]
    }
   ],
   "source": [
    "X_train_dropped = X_train[is_nan_X_train.sum(1) == 0]\n",
    "y_train_dropped = y_train[is_nan_X_train.sum(1) == 0]\n",
    "\n",
    "print(\"=====最尤推定=====\")\n",
    "w_ML = np.linalg.inv(X_train_dropped.T.dot(X_train_dropped)).dot(X_train_dropped.T).dot(y_train_dropped)\n",
    "y_pred = X_test.dot(w_ML)\n",
    "print(\"y_error = {:}\".format( ((y_pred - y_test)**2.0).mean() ))\n",
    "\n",
    "print(\"\\n=====ベイズ線形回帰=====\")\n",
    "model = Bayesian_LR_with_interpolation(alpha = 2.0, beta = 3.0)\n",
    "model.fit(X_train_dropped, y_train_dropped, fit_hyper_parameters = True)\n",
    "y_pred = model.predict(X_test)[0]\n",
    "print(\"y_error = {:}\".format( ((y_pred - y_test)**2.0).mean() ))"
   ]
  },
  {
   "cell_type": "markdown",
   "metadata": {},
   "source": [
    "欠損データを平均値で補完して予測"
   ]
  },
  {
   "cell_type": "code",
   "execution_count": 30,
   "metadata": {},
   "outputs": [
    {
     "name": "stdout",
     "output_type": "stream",
     "text": [
      "=====最尤推定=====\n",
      "y_error = 0.9199739418129449\n",
      "\n",
      "=====ベイズ線形回帰=====\n",
      "Note: There are no missing values in the explanatory variables.\n",
      "Fitting has finished: lpha = 4.767952, beta = 1.785241, L = -0.221673\n",
      "alpha = 4.767952\n",
      "beta = 1.785241\n",
      "X_error = 0.03779597748274369, 0.5054058111998435\n",
      "Predictions has finished.0\n",
      "y_error = 0.9434735826603966\n"
     ]
    }
   ],
   "source": [
    "X_train_interpolated = X_train.copy()\n",
    "X_train_interpolated[np.isnan(X_train)] = np.tile(np.nanmean(X_train, axis = 0), reps = (len(X_train,),1))[np.isnan(X_train)]\n",
    "\n",
    "print(\"=====最尤推定=====\")\n",
    "w_ML = np.linalg.inv(X_train_interpolated.T.dot(X_train_interpolated)).dot(X_train_interpolated.T).dot(y_train)\n",
    "y_pred = X_test.dot(w_ML)\n",
    "print(\"y_error = {:}\".format( ((y_pred - y_test)**2.0).mean() ))\n",
    "\n",
    "print(\"\\n=====ベイズ線形回帰=====\")\n",
    "model = Bayesian_LR_with_interpolation(alpha = 2.0, beta = 3.0)\n",
    "X_pred = model.fit(X_train_interpolated, y_train, fit_hyper_parameters = True)[2]\n",
    "x1_error, x2_error = ( (X_pred - X_train_complete)**2.0 ).mean(0)\n",
    "print(\"X_error = {0:}, {1:}\".format(x1_error, x2_error))\n",
    "y_pred = model.predict(X_test)[0]\n",
    "print(\"y_error = {:}\".format( ((y_pred - y_test)**2.0).mean() ))"
   ]
  },
  {
   "cell_type": "code",
   "execution_count": null,
   "metadata": {},
   "outputs": [],
   "source": []
  }
 ],
 "metadata": {
  "kernelspec": {
   "display_name": "Python 3",
   "language": "python",
   "name": "python3"
  },
  "language_info": {
   "codemirror_mode": {
    "name": "ipython",
    "version": 3
   },
   "file_extension": ".py",
   "mimetype": "text/x-python",
   "name": "python",
   "nbconvert_exporter": "python",
   "pygments_lexer": "ipython3",
   "version": "3.8.5"
  }
 },
 "nbformat": 4,
 "nbformat_minor": 4
}
